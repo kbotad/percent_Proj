{
 "cells": [
  {
   "cell_type": "code",
   "execution_count": 1,
   "id": "6abca2be",
   "metadata": {},
   "outputs": [],
   "source": [
    "# https://velog.io/@jungeun-dev/Python-%EC%9B%B9-%ED%81%AC%EB%A1%A4%EB%A7%81Selenium-%EA%B5%AC%EA%B8%80-%EC%9D%B4%EB%AF%B8%EC%A7%80-%EC%88%98%EC%A7%91"
   ]
  },
  {
   "cell_type": "code",
   "execution_count": 5,
   "id": "9cc6747f",
   "metadata": {},
   "outputs": [],
   "source": [
    "idols = ['아이유' , '수지' , '신세경' , '손예진' , '전지현' , '슬기' , '조이현', '지수']"
   ]
  },
  {
   "cell_type": "code",
   "execution_count": 27,
   "id": "a7c5c375",
   "metadata": {},
   "outputs": [
    {
     "name": "stderr",
     "output_type": "stream",
     "text": [
      "C:\\Users\\taeh0\\anaconda3\\envs\\keras01\\lib\\site-packages\\ipykernel_launcher.py:34: DeprecationWarning: executable_path has been deprecated, please pass in a Service object\n",
      "C:\\Users\\taeh0\\anaconda3\\envs\\keras01\\lib\\site-packages\\ipykernel_launcher.py:40: DeprecationWarning: find_element_by_css_selector is deprecated. Please use find_element(by=By.CSS_SELECTOR, value=css_selector) instead\n",
      "C:\\Users\\taeh0\\anaconda3\\envs\\keras01\\lib\\site-packages\\ipykernel_launcher.py:42: DeprecationWarning: find_element_by_css_selector is deprecated. Please use find_element(by=By.CSS_SELECTOR, value=css_selector) instead\n",
      "C:\\Users\\taeh0\\anaconda3\\envs\\keras01\\lib\\site-packages\\ipykernel_launcher.py:57: DeprecationWarning: find_element_by_css_selector is deprecated. Please use find_element(by=By.CSS_SELECTOR, value=css_selector) instead\n",
      "C:\\Users\\taeh0\\anaconda3\\envs\\keras01\\lib\\site-packages\\ipykernel_launcher.py:62: DeprecationWarning: find_elements_by_css_selector is deprecated. Please use find_elements(by=By.CSS_SELECTOR, value=css_selector) instead\n",
      "C:\\Users\\taeh0\\anaconda3\\envs\\keras01\\lib\\site-packages\\ipykernel_launcher.py:72: DeprecationWarning: find_element_by_xpath is deprecated. Please use find_element(by=By.XPATH, value=xpath) instead\n"
     ]
    }
   ],
   "source": [
    "import selenium\n",
    "from selenium import webdriver\n",
    "import time\n",
    "from selenium.webdriver.common.keys import Keys\n",
    "from selenium.webdriver.common.by import By\n",
    "import urllib.request\n",
    "import os\n",
    "\n",
    "# driver = webdriver.Chrome('chromedriver.exe') # 크롬드라이버 설치한 경로 작성 필요 \n",
    "# driver.get(\"https://www.google.co.kr/imghp?hl=ko&tab=wi&authuser=0&ogbl\") # 구글 이미지 검색 url\n",
    "# elem = driver.find_element(By.NAME,\"q\") #구글 검색창 선택\n",
    "# elem.send_keys('지수') # 검색창에 검색할 내용(name)넣기\n",
    "# elem.send_keys(Keys.RETURN) # 검색할 내용을 넣고 enter를 치는것!\n",
    "\n",
    "# imgs = driver.find_element_by_css_selector(\".rg_i.Q4LuWd\")\n",
    "\n",
    "\n",
    "# imgs.click()\n",
    "# time.sleep(2)        \n",
    "# driver.find_element_by_css_selector('.Sa2Wmf.MIdC8d.So4Urb').click() # 크게 뜬 이미지 선택하여 \"src\" 속성을 받아옴\n",
    "\n",
    "# imgs = driver.find_elements_by_css_selector(\".rg_i.Q4LuWd\") #작게 뜬 이미지들 모두 선택(elements)\n",
    "\n",
    "\n",
    "\n",
    "def createDirectory(directory):\n",
    "    try:\n",
    "        if not os.path.exists(directory):\n",
    "            os.makedirs(directory)\n",
    "    except OSError:\n",
    "        print(\"Error: Failed to create the directory.\")\n",
    "\n",
    "def crawling_img(name,e_name):\n",
    "    driver = webdriver.Chrome('chromedriver.exe') # 크롬드라이버 설치한 경로 작성 필요 \n",
    "    driver.get(\"https://www.google.co.kr/imghp?hl=ko&tab=wi&authuser=0&ogbl\") # 구글 이미지 검색 url\n",
    "    elem = driver.find_element(By.NAME,\"q\") #구글 검색창 선택\n",
    "    elem.send_keys(name) # 검색창에 검색할 내용(name)넣기\n",
    "    elem.send_keys(Keys.RETURN) # 검색할 내용을 넣고 enter를 치는것!\n",
    "\n",
    "    driver.find_element_by_css_selector(\".rg_i.Q4LuWd\").click()  # 첫 번째 사진 클릭\n",
    "    time.sleep(2)        \n",
    "    driver.find_element_by_css_selector('.Sa2Wmf.MIdC8d.So4Urb').click() # 관련 이미지 더보기 클릭\n",
    "\n",
    "\n",
    "    SCROLL_PAUSE_TIME = 1\n",
    "    # Get scroll height\n",
    "    last_height = driver.execute_script(\"return document.body.scrollHeight\")  # 브라우저의 높이를 자바스크립트로 찾음\n",
    "    while True:\n",
    "        # Scroll down to bottom\n",
    "        driver.execute_script(\"window.scrollTo(0, document.body.scrollHeight);\")  # 브라우저 끝까지 스크롤을 내림\n",
    "        # Wait to load page\n",
    "        time.sleep(SCROLL_PAUSE_TIME)\n",
    "        # Calculate new scroll height and compare with last scroll height\n",
    "        new_height = driver.execute_script(\"return document.body.scrollHeight\")\n",
    "        if new_height == last_height:\n",
    "            try:\n",
    "                driver.find_element_by_css_selector(\".mye4qd\").click()\n",
    "            except:\n",
    "                break\n",
    "        last_height = new_height\n",
    "    \n",
    "    imgs = driver.find_elements_by_css_selector(\".rg_i.Q4LuWd\")\n",
    "    dir = \".\\dataset\" + \"\\\\\" + e_name\n",
    "\n",
    "    createDirectory(dir) #폴더 생성\n",
    "    count = 1\n",
    "    for img in imgs:\n",
    "        try:\n",
    "            img.click()\n",
    "            time.sleep(3)\n",
    "            imgUrl = driver.find_element_by_xpath(\n",
    "                '//*[@id=\"Sva75c\"]/div/div/div[3]/div[2]/c-wiz/div/div[1]/div[1]/div[2]/div/a/img').get_attribute(\n",
    "                \"src\")\n",
    "            path = \"C:/Users/taeh0/Desktop/percent_Proj/%_Project/data preprocessing/dataset/\" + e_name + \"/\"\n",
    "            urllib.request.urlretrieve(imgUrl, path + e_name + str(count) + \".jpg\")\n",
    "            count = count + 1\n",
    "            if count >= 250:\n",
    "                break\n",
    "        except:\n",
    "            pass\n",
    "    driver.close()\n",
    "\n",
    "    \n",
    "\n",
    "idols = ['아이유' , '수지' , '신세경' , '손예진' , '전지현' , '슬기' , '조이현', '지수']\n",
    "idols_eng = ['iu','su','shin','son','jeon','seulgi','jo','ji']\n",
    "\n",
    "for idol,e_name in zip(idols,idols_eng):\n",
    "    crawling_img(idol,e_name)\n"
   ]
  },
  {
   "cell_type": "markdown",
   "id": "89600342",
   "metadata": {
    "scrolled": true
   },
   "source": [
    "### 데이터 저장완료"
   ]
  },
  {
   "cell_type": "code",
   "execution_count": 2,
   "id": "d08fc6a6",
   "metadata": {},
   "outputs": [
    {
     "name": "stdout",
     "output_type": "stream",
     "text": [
      "4.5.5\n"
     ]
    }
   ],
   "source": [
    "import cv2\n",
    "print(cv2.__version__)"
   ]
  },
  {
   "cell_type": "code",
   "execution_count": 3,
   "id": "27547d50",
   "metadata": {},
   "outputs": [],
   "source": [
    "#출처 https://blog.naver.com/PostView.naver?blogId=cosmosjs&logNo=220934659282&redirect=Dlog&widgetTypeCall=true&directAccess=false"
   ]
  },
  {
   "cell_type": "markdown",
   "id": "774d918c",
   "metadata": {},
   "source": [
    "폴더명과 파일명이 모두 영어여야 한다는 것을 알게되었다.."
   ]
  },
  {
   "cell_type": "code",
   "execution_count": 48,
   "id": "4e7f7052",
   "metadata": {},
   "outputs": [
    {
     "name": "stdout",
     "output_type": "stream",
     "text": [
      "iu\n",
      "(870, 580, 3)\n",
      "x,y,w,h [[156 265 308 308]]\n",
      "(384, 384, 3)\n",
      "su\n",
      "(333, 250, 3)\n",
      "x,y,w,h [[ 66  52 102 102]]\n",
      "(126, 126, 3)\n",
      "shin\n",
      "(1161, 930, 3)\n",
      "x,y,w,h [[225 202 475 475]]\n",
      "(593, 593, 3)\n",
      "son\n",
      "(600, 484, 3)\n",
      "x,y,w,h [[128  69 151 151]]\n",
      "(187, 187, 3)\n",
      "jeon\n",
      "(427, 640, 3)\n",
      "x,y,w,h [[100  77 306 306]]\n",
      "(382, 382, 3)\n",
      "seulgi\n",
      "(945, 629, 3)\n",
      "x,y,w,h [[ 78 142 397 397]]\n",
      "(495, 495, 3)\n",
      "jo\n",
      "(840, 560, 3)\n",
      "x,y,w,h [[155 189 316 316]]\n",
      "(394, 394, 3)\n",
      "ji\n",
      "(640, 640, 3)\n",
      "x,y,w,h ()\n"
     ]
    }
   ],
   "source": [
    "face_cascade=cv2.CascadeClassifier(cv2.data.haarcascades + \"haarcascade_frontalface_default.xml\")\n",
    "for name in idols_eng:\n",
    "    print(name)\n",
    "    img = cv2.imread(f'C:\\\\Users\\\\taeh0\\\\Desktop\\\\percent_Proj\\\\%_Project\\\\data preprocessing\\\\dataset\\\\{name}\\\\{name}1.jpg')  # 이미지 변수\n",
    "    print(img.shape)\n",
    "    #img = cv2.imread('Image_1.jpg')  # 이미지 변수\n",
    "    gray = cv2.cvtColor(img, cv2.COLOR_BGR2GRAY)\n",
    "    faces = face_cascade.detectMultiScale(gray, 1.3,5)\n",
    "    print('x,y,w,h',faces)\n",
    "    imgNum=0\n",
    "    for (x,y,w,h) in faces:\n",
    "        try:\n",
    "            cropped = img[y - int(h / 8):y + h + int(h / 8), x - int(w / 8):x + w + int(w / 8)]\n",
    "            # 이미지를 저장\n",
    "            cv2.imwrite(f\"C:\\\\Users\\\\taeh0\\\\Desktop\\\\percent_Proj\\\\%_Project\\\\data preprocessing\\\\dataset\\\\{name}\\\\{name}_face1_test1(8).jpg\", cropped)\n",
    "            print(cropped.shape)\n",
    "            imgNum += 1\n",
    "        except:\n",
    "            pass"
   ]
  },
  {
   "cell_type": "code",
   "execution_count": null,
   "id": "1465cb6e",
   "metadata": {},
   "outputs": [],
   "source": []
  },
  {
   "cell_type": "code",
   "execution_count": 25,
   "id": "9d0775a9",
   "metadata": {},
   "outputs": [
    {
     "name": "stdout",
     "output_type": "stream",
     "text": [
      "(225, 225, 3)\n"
     ]
    }
   ],
   "source": [
    "#img = cv2.imread(f'/dataset/{name}/{name}1.jpg')  # 이미지 변수\n",
    "#img = cv2.imread('/dataset/아이유/아이유1.jpg')  # 이미지 변수\n",
    "#img = cv2.imread('Image_1.jpg')\n",
    "img = cv2.imread('C:\\\\Users\\\\taeh0\\\\Desktop\\\\percent_Proj\\\\%_Project\\\\data preprocessing\\\\dataset\\\\test\\\\son1.jpg')\n",
    "gray = cv2.cvtColor(img, cv2.COLOR_BGR2GRAY)\n",
    "faces = face_cascade.detectMultiScale(gray, 1.3,5)\n",
    "imgNum=0\n",
    "for (x,y,w,h) in faces:\n",
    "    cropped = img[y - int(h / 4):y + h + int(h / 4), x - int(w / 4):x + w + int(w / 4)]\n",
    "    # 이미지를 저장\n",
    "    #cv2.imwrite(f\"/dataset/{name}/face{str(imgNum)}.jpg\", cropped)\n",
    "    cv2.imwrite(f\"C:\\\\Users\\\\taeh0\\\\Desktop\\\\percent_Proj\\\\%_Project\\\\data preprocessing\\\\dataset\\\\test.jpg\", cropped)\n",
    "    \n",
    "    print(cropped.shape)\n",
    "    imgNum += 1\n",
    "\n",
    "    #cv2.rectangle(img, (x,y), (x+w, y+h), (255,0,0),2)\n",
    "    roi_gray = gray[y:y+h, x:x+w]\n",
    "    roi_color = img[y:y+h, x:x+w]"
   ]
  },
  {
   "cell_type": "code",
   "execution_count": null,
   "id": "61940063",
   "metadata": {},
   "outputs": [],
   "source": []
  },
  {
   "cell_type": "code",
   "execution_count": null,
   "id": "8bc5e3dc",
   "metadata": {},
   "outputs": [],
   "source": []
  }
 ],
 "metadata": {
  "kernelspec": {
   "display_name": "Python 3 (ipykernel)",
   "language": "python",
   "name": "python3"
  },
  "language_info": {
   "codemirror_mode": {
    "name": "ipython",
    "version": 3
   },
   "file_extension": ".py",
   "mimetype": "text/x-python",
   "name": "python",
   "nbconvert_exporter": "python",
   "pygments_lexer": "ipython3",
   "version": "3.7.11"
  },
  "toc": {
   "base_numbering": 1,
   "nav_menu": {},
   "number_sections": true,
   "sideBar": true,
   "skip_h1_title": false,
   "title_cell": "Table of Contents",
   "title_sidebar": "Contents",
   "toc_cell": false,
   "toc_position": {},
   "toc_section_display": true,
   "toc_window_display": false
  },
  "varInspector": {
   "cols": {
    "lenName": 16,
    "lenType": 16,
    "lenVar": 40
   },
   "kernels_config": {
    "python": {
     "delete_cmd_postfix": "",
     "delete_cmd_prefix": "del ",
     "library": "var_list.py",
     "varRefreshCmd": "print(var_dic_list())"
    },
    "r": {
     "delete_cmd_postfix": ") ",
     "delete_cmd_prefix": "rm(",
     "library": "var_list.r",
     "varRefreshCmd": "cat(var_dic_list()) "
    }
   },
   "types_to_exclude": [
    "module",
    "function",
    "builtin_function_or_method",
    "instance",
    "_Feature"
   ],
   "window_display": false
  }
 },
 "nbformat": 4,
 "nbformat_minor": 5
}
