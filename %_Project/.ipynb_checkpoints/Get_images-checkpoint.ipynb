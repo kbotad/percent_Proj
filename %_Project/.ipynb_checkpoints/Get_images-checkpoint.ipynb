{
 "cells": [
  {
   "cell_type": "code",
   "execution_count": 1,
   "id": "a7c5c375",
   "metadata": {},
   "outputs": [],
   "source": [
    "import selenium\n",
    "from bing_image_downloader import downloader"
   ]
  },
  {
   "cell_type": "code",
   "execution_count": 29,
   "id": "0a88cc77",
   "metadata": {
    "scrolled": true
   },
   "outputs": [
    {
     "name": "stdout",
     "output_type": "stream",
     "text": [
      "[%] Downloading Images to C:\\Users\\taeh0\\Desktop\\percent_Proj\\%_Project\\dataset\\아이유\n",
      "\n",
      "\n",
      "[!!]Indexing page: 1\n",
      "\n",
      "[%] Indexed 5 Images on Page 1.\n",
      "\n",
      "===============================================\n",
      "\n",
      "[%] Downloading Image #1 from https://3.bp.blogspot.com/-_Yj0kCGxjss/WMdLrHNSPVI/AAAAAAAB__E/1QJkicGGNNQhphAjMFgRSdU_F9vNDb9jgCLcB/s640/iu-not-fake-nude-11.jpg\n",
      "[%] File Downloaded !\n",
      "\n",
      "[%] Downloading Image #2 from http://flash24.co.kr/g4/data/mw.cheditor/2005/nAS2Gl163qDR44l3JTQkge.jpg\n",
      "[%] File Downloaded !\n",
      "\n",
      "[%] Downloading Image #3 from https://www.nemopan.com/files/attach/images/6294/619/484/012/6d7b1b298c3c54952ca1eba40103e29f.jpg\n",
      "[%] File Downloaded !\n",
      "\n",
      "[%] Downloading Image #4 from http://www.onlifezone.com/files/attach/images/116/676/242/016/b0bd0cd365b845fa37219e8c0412be55.jpg\n",
      "[%] File Downloaded !\n",
      "\n",
      "[%] Downloading Image #5 from https://www.nemopan.com/files/attach/images/6294/491/514/012/7d2ddfc592bae2f0a0452d63c5f10b21.jpg\n",
      "[%] File Downloaded !\n",
      "\n",
      "\n",
      "\n",
      "[%] Done. Downloaded 5 images.\n"
     ]
    }
   ],
   "source": [
    "celeb_list=['아이유' , '수지' , '김태희' , '손예진' , '전지현' , '한예슬' , '배우 조이현', '블랙핑크 지수']\n",
    "\n",
    "\n",
    "downloader.download('아이유', limit=5,  output_dir='dataset', \n",
    "adult_filter_off=False, force_replace=False, timeout=60)"
   ]
  },
  {
   "cell_type": "code",
   "execution_count": 3,
   "id": "d08fc6a6",
   "metadata": {},
   "outputs": [
    {
     "name": "stdout",
     "output_type": "stream",
     "text": [
      "4.5.5\n"
     ]
    }
   ],
   "source": [
    "import cv2\n",
    "print(cv2.__version__)"
   ]
  },
  {
   "cell_type": "code",
   "execution_count": 9,
   "id": "27547d50",
   "metadata": {},
   "outputs": [],
   "source": [
    "#출처 https://blog.naver.com/PostView.naver?blogId=cosmosjs&logNo=220934659282&redirect=Dlog&widgetTypeCall=true&directAccess=false"
   ]
  },
  {
   "cell_type": "code",
   "execution_count": 24,
   "id": "1b383576",
   "metadata": {},
   "outputs": [
    {
     "name": "stdout",
     "output_type": "stream",
     "text": [
      "(138, 138, 3)\n"
     ]
    }
   ],
   "source": [
    "#face_cascade = cv2.CascadeClassifier('haarcascades/haarcascade_frontalface_default.xml')\n",
    "face_cascade=cv2.CascadeClassifier(cv2.data.haarcascades + \"haarcascade_frontalface_default.xml\") #Note the change\n",
    "#eye_casecade = cv2.CascadeClassifier('../haarcascades/haarcascade_eye.xml')\n",
    "\n",
    "#img = cv2.imread('image.jpg')\n",
    "#img = cv2.imread('../dataset/IU/Image_1.jpg',1)\n",
    "img = cv2.imread('Image_1.jpg')\n",
    "gray = cv2.cvtColor(img, cv2.COLOR_BGR2GRAY)\n",
    "faces = face_cascade.detectMultiScale(gray, 1.3,5)\n",
    "imgNum=1\n",
    "for (x,y,w,h) in faces:\n",
    "    cropped = img[y - int(h / 4):y + h + int(h / 4), x - int(w / 4):x + w + int(w / 4)]\n",
    "    # 이미지를 저장\n",
    "    cv2.imwrite(\"face\" + str(imgNum) + \".jpg\", cropped)\n",
    "    print(cropped.shape)\n",
    "    imgNum += 1\n",
    "\n",
    "    #cv2.rectangle(img, (x,y), (x+w, y+h), (255,0,0),2)\n",
    "    roi_gray = gray[y:y+h, x:x+w]\n",
    "    roi_color = img[y:y+h, x:x+w]\n",
    "#     eyes = eye_casecade.detectMultiScale(roi_gray)\n",
    "#     for (ex, ey, ew, eh) in eyes:\n",
    "#         cv2.rectangle(roi_color, (ex,ey), (ex+ew, ey+eh),(0,255,0),2)\n",
    "\n",
    "# cv2.imshow('Image view', img)\n",
    "# cv2.waitKey(0)\n",
    "# cv2.destroyAllWindows()"
   ]
  },
  {
   "cell_type": "code",
   "execution_count": null,
   "id": "4e7f7052",
   "metadata": {},
   "outputs": [],
   "source": [
    "face_cascade=cv2.CascadeClassifier(cv2.data.haarcascades + \"haarcascade_frontalface_default.xml\")\n",
    "img = cv2.imread('Image_1.jpg')\n",
    "gray = cv2.cvtColor(img, cv2.COLOR_BGR2GRAY)\n",
    "faces = face_cascade.detectMultiScale(gray, 1.3,5)\n",
    "imgNum=0\n",
    "for (x,y,w,h) in faces:\n",
    "    cropped = img[y - int(h / 4):y + h + int(h / 4), x - int(w / 4):x + w + int(w / 4)]\n",
    "    # 이미지를 저장\n",
    "    cv2.imwrite(\"face\" + str(imgNum) + \".jpg\", cropped)\n",
    "    print(cropped.shape)\n",
    "    imgNum += 1\n",
    "\n",
    "    #cv2.rectangle(img, (x,y), (x+w, y+h), (255,0,0),2)\n",
    "    roi_gray = gray[y:y+h, x:x+w]\n",
    "    roi_color = img[y:y+h, x:x+w]"
   ]
  },
  {
   "cell_type": "code",
   "execution_count": null,
   "id": "9d0775a9",
   "metadata": {},
   "outputs": [],
   "source": []
  }
 ],
 "metadata": {
  "kernelspec": {
   "display_name": "Python 3 (ipykernel)",
   "language": "python",
   "name": "python3"
  },
  "language_info": {
   "codemirror_mode": {
    "name": "ipython",
    "version": 3
   },
   "file_extension": ".py",
   "mimetype": "text/x-python",
   "name": "python",
   "nbconvert_exporter": "python",
   "pygments_lexer": "ipython3",
   "version": "3.7.11"
  },
  "toc": {
   "base_numbering": 1,
   "nav_menu": {},
   "number_sections": true,
   "sideBar": true,
   "skip_h1_title": false,
   "title_cell": "Table of Contents",
   "title_sidebar": "Contents",
   "toc_cell": false,
   "toc_position": {},
   "toc_section_display": true,
   "toc_window_display": false
  },
  "varInspector": {
   "cols": {
    "lenName": 16,
    "lenType": 16,
    "lenVar": 40
   },
   "kernels_config": {
    "python": {
     "delete_cmd_postfix": "",
     "delete_cmd_prefix": "del ",
     "library": "var_list.py",
     "varRefreshCmd": "print(var_dic_list())"
    },
    "r": {
     "delete_cmd_postfix": ") ",
     "delete_cmd_prefix": "rm(",
     "library": "var_list.r",
     "varRefreshCmd": "cat(var_dic_list()) "
    }
   },
   "types_to_exclude": [
    "module",
    "function",
    "builtin_function_or_method",
    "instance",
    "_Feature"
   ],
   "window_display": false
  }
 },
 "nbformat": 4,
 "nbformat_minor": 5
}
